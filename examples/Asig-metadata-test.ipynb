{
 "cells": [
  {
   "cell_type": "markdown",
   "metadata": {},
   "source": [
    "# Asig feature-metadata test notebook"
   ]
  },
  {
   "cell_type": "code",
   "execution_count": null,
   "metadata": {},
   "outputs": [],
   "source": [
    "from pya import *\n",
    "import time\n",
    "Aserver.default = Aserver(bs=2040).boot()"
   ]
  },
  {
   "cell_type": "code",
   "execution_count": null,
   "metadata": {},
   "outputs": [],
   "source": [
    "md = Metadata(label=\"test\", genre=\"Jazz\", timestamp=time.time())\n",
    "md.context['events'] = [[1,3], [4,9]]\n",
    "print(md)\n",
    "md.__dict__"
   ]
  },
  {
   "cell_type": "code",
   "execution_count": null,
   "metadata": {},
   "outputs": [],
   "source": [
    "asnap = Asig(\"samples/snap.wav\", label='snap', author=\"TH\")\n",
    "print(\"label = \", asnap.md.label)\n",
    "asnap.md._['events'] = [[1,3], [4,9]]\n",
    "print(\"events = \", asnap.md.context['events'])\n",
    "asnap.md.genre = \"Sonification\"\n",
    "asnap.play().md"
   ]
  },
  {
   "cell_type": "code",
   "execution_count": null,
   "metadata": {},
   "outputs": [],
   "source": [
    "asnap.md['test'] = [3,4,5]\n",
    "asnap.md.author"
   ]
  },
  {
   "cell_type": "code",
   "execution_count": null,
   "metadata": {},
   "outputs": [],
   "source": [
    "a2 = asnap[5000:].fade_out(0.1).norm().plot(lw=0.6).play()\n",
    "a2.md"
   ]
  },
  {
   "cell_type": "code",
   "execution_count": null,
   "metadata": {},
   "outputs": [],
   "source": [
    "a = asnap\n",
    "print(a.md.timestamp)  # stored as seconds, only rendered as string in __repr__() see above...\n",
    "a.label, a.sr, a.cn, a._"
   ]
  }
 ],
 "metadata": {
  "kernelspec": {
   "display_name": "Python 3",
   "language": "python",
   "name": "python3"
  },
  "language_info": {
   "codemirror_mode": {
    "name": "ipython",
    "version": 3
   },
   "file_extension": ".py",
   "mimetype": "text/x-python",
   "name": "python",
   "nbconvert_exporter": "python",
   "pygments_lexer": "ipython3",
   "version": "3.6.8"
  },
  "toc": {
   "base_numbering": 1,
   "nav_menu": {},
   "number_sections": true,
   "sideBar": true,
   "skip_h1_title": true,
   "title_cell": "Table of Contents",
   "title_sidebar": "Contents",
   "toc_cell": false,
   "toc_position": {},
   "toc_section_display": true,
   "toc_window_display": false
  }
 },
 "nbformat": 4,
 "nbformat_minor": 2
}
